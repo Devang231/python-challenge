{
 "cells": [
  {
   "cell_type": "code",
   "execution_count": 1,
   "id": "a0233064",
   "metadata": {},
   "outputs": [],
   "source": [
    "import pandas as pd"
   ]
  },
  {
   "cell_type": "code",
   "execution_count": 2,
   "id": "03ac7646",
   "metadata": {},
   "outputs": [],
   "source": [
    "df = pd.read_csv(\"/Users/devangpatel/Desktop/python-challenge copy/python-challenge/PyBank/Resources/budget_data.csv\")"
   ]
  },
  {
   "cell_type": "code",
   "execution_count": 3,
   "id": "9292b790",
   "metadata": {},
   "outputs": [
    {
     "name": "stdout",
     "output_type": "stream",
     "text": [
      "      Date  Profit/Losses\n",
      "0   Jan-10        1088983\n",
      "1   Feb-10        -354534\n",
      "2   Mar-10         276622\n",
      "3   Apr-10        -728133\n",
      "4   May-10         852993\n",
      "..     ...            ...\n",
      "81  Oct-16        -729004\n",
      "82  Nov-16        -112209\n",
      "83  Dec-16         516313\n",
      "84  Jan-17         607208\n",
      "85  Feb-17         382539\n",
      "\n",
      "[86 rows x 2 columns]\n"
     ]
    }
   ],
   "source": [
    "print(df)"
   ]
  },
  {
   "cell_type": "code",
   "execution_count": 4,
   "id": "7c732159",
   "metadata": {},
   "outputs": [
    {
     "data": {
      "text/plain": [
       "Jan-10    1\n",
       "Jul-14    1\n",
       "Mar-15    1\n",
       "Feb-15    1\n",
       "Jan-15    1\n",
       "         ..\n",
       "Apr-12    1\n",
       "Mar-12    1\n",
       "Feb-12    1\n",
       "Jan-12    1\n",
       "Feb-17    1\n",
       "Name: Date, Length: 86, dtype: int64"
      ]
     },
     "execution_count": 4,
     "metadata": {},
     "output_type": "execute_result"
    }
   ],
   "source": [
    "df[\"Date\"].value_counts()"
   ]
  },
  {
   "cell_type": "code",
   "execution_count": 5,
   "id": "841913fe",
   "metadata": {},
   "outputs": [],
   "source": [
    "counts = df[\"Date\"].value_counts()"
   ]
  },
  {
   "cell_type": "code",
   "execution_count": 6,
   "id": "960ab326",
   "metadata": {},
   "outputs": [
    {
     "data": {
      "text/plain": [
       "22564198"
      ]
     },
     "execution_count": 6,
     "metadata": {},
     "output_type": "execute_result"
    }
   ],
   "source": [
    "df[\"Profit/Losses\"].sum()"
   ]
  },
  {
   "cell_type": "code",
   "execution_count": 7,
   "id": "d5971902",
   "metadata": {},
   "outputs": [
    {
     "name": "stdout",
     "output_type": "stream",
     "text": [
      "Total Months:  86\n",
      "Total:  22564198\n"
     ]
    }
   ],
   "source": [
    "print(\"Total Months: \", len(counts))\n",
    "\n",
    "print(\"Total: \", df[\"Profit/Losses\"].sum()) "
   ]
  },
  {
   "cell_type": "code",
   "execution_count": 8,
   "id": "c035d20b",
   "metadata": {},
   "outputs": [
    {
     "data": {
      "text/plain": [
       "0           NaN\n",
       "1    -1443517.0\n",
       "2      631156.0\n",
       "3    -1004755.0\n",
       "4     1581126.0\n",
       "        ...    \n",
       "81   -1627245.0\n",
       "82     616795.0\n",
       "83     628522.0\n",
       "84      90895.0\n",
       "85    -224669.0\n",
       "Name: Profit/Losses, Length: 86, dtype: float64"
      ]
     },
     "execution_count": 8,
     "metadata": {},
     "output_type": "execute_result"
    }
   ],
   "source": [
    "df[\"Profit/Losses\"].diff()"
   ]
  },
  {
   "cell_type": "code",
   "execution_count": 9,
   "id": "6577f6db",
   "metadata": {},
   "outputs": [
    {
     "data": {
      "text/plain": [
       "-8311.105882352942"
      ]
     },
     "execution_count": 9,
     "metadata": {},
     "output_type": "execute_result"
    }
   ],
   "source": [
    "df[\"Profit/Losses\"].diff().mean()"
   ]
  },
  {
   "cell_type": "code",
   "execution_count": 10,
   "id": "c178cc45",
   "metadata": {},
   "outputs": [],
   "source": [
    "result = df[\"Profit/Losses\"].diff().mean()"
   ]
  },
  {
   "cell_type": "code",
   "execution_count": 11,
   "id": "f836360b",
   "metadata": {},
   "outputs": [
    {
     "name": "stdout",
     "output_type": "stream",
     "text": [
      "-8311.11\n"
     ]
    }
   ],
   "source": [
    "print(f\"{result:.2f}\")"
   ]
  },
  {
   "cell_type": "code",
   "execution_count": 12,
   "id": "1533c4a8",
   "metadata": {},
   "outputs": [
    {
     "data": {
      "text/plain": [
       "1862002.0"
      ]
     },
     "execution_count": 12,
     "metadata": {},
     "output_type": "execute_result"
    }
   ],
   "source": [
    "df[\"Profit/Losses\"].diff().max()"
   ]
  },
  {
   "cell_type": "code",
   "execution_count": 13,
   "id": "f9c025df",
   "metadata": {},
   "outputs": [],
   "source": [
    "df[\"change\"] = df[\"Profit/Losses\"].diff()"
   ]
  },
  {
   "cell_type": "code",
   "execution_count": 14,
   "id": "ce0145da",
   "metadata": {},
   "outputs": [
    {
     "data": {
      "text/plain": [
       "1862002.0"
      ]
     },
     "execution_count": 14,
     "metadata": {},
     "output_type": "execute_result"
    }
   ],
   "source": [
    "df[\"change\"].max()"
   ]
  },
  {
   "cell_type": "code",
   "execution_count": 15,
   "id": "74129bc6",
   "metadata": {},
   "outputs": [
    {
     "name": "stdout",
     "output_type": "stream",
     "text": [
      "      Date  Profit/Losses     change\n",
      "0   Jan-10        1088983        NaN\n",
      "1   Feb-10        -354534 -1443517.0\n",
      "2   Mar-10         276622   631156.0\n",
      "3   Apr-10        -728133 -1004755.0\n",
      "4   May-10         852993  1581126.0\n",
      "..     ...            ...        ...\n",
      "81  Oct-16        -729004 -1627245.0\n",
      "82  Nov-16        -112209   616795.0\n",
      "83  Dec-16         516313   628522.0\n",
      "84  Jan-17         607208    90895.0\n",
      "85  Feb-17         382539  -224669.0\n",
      "\n",
      "[86 rows x 3 columns]\n"
     ]
    }
   ],
   "source": [
    "print(df)"
   ]
  },
  {
   "cell_type": "code",
   "execution_count": 16,
   "id": "2821bd97",
   "metadata": {},
   "outputs": [],
   "source": [
    "max = df[df[\"change\"]==df[\"change\"].max()]"
   ]
  },
  {
   "cell_type": "code",
   "execution_count": 17,
   "id": "6a333bfc",
   "metadata": {},
   "outputs": [
    {
     "name": "stdout",
     "output_type": "stream",
     "text": [
      "      Date  Profit/Losses     change\n",
      "79  Aug-16         951227  1862002.0\n"
     ]
    }
   ],
   "source": [
    "print(df[df['change']==df['change'].max()])"
   ]
  },
  {
   "cell_type": "code",
   "execution_count": 18,
   "id": "08a9419f",
   "metadata": {},
   "outputs": [
    {
     "data": {
      "text/plain": [
       "-1825558.0"
      ]
     },
     "execution_count": 18,
     "metadata": {},
     "output_type": "execute_result"
    }
   ],
   "source": [
    "df[\"change\"].min()"
   ]
  },
  {
   "cell_type": "code",
   "execution_count": 19,
   "id": "c28ec175",
   "metadata": {},
   "outputs": [
    {
     "name": "stdout",
     "output_type": "stream",
     "text": [
      "      Date  Profit/Losses     change\n",
      "49  Feb-14        -946748 -1825558.0\n"
     ]
    }
   ],
   "source": [
    "print(df[df['change']==df['change'].min()])"
   ]
  },
  {
   "cell_type": "code",
   "execution_count": 20,
   "id": "af4bada4",
   "metadata": {},
   "outputs": [
    {
     "name": "stdout",
     "output_type": "stream",
     "text": [
      "Financial Analysis\n",
      "-------------------------\n",
      "Total Months:  86\n",
      "Total:  22564198\n",
      "Average Change:  $-8311.11\n",
      "Greatest Increase in Profits:  Aug-16 1862002\n",
      "Greatest Decrease in Profits:  Feb-14 -1825558\n"
     ]
    }
   ],
   "source": [
    "print(\"Financial Analysis\")\n",
    "\n",
    "print(\"-------------------------\")\n",
    "\n",
    "print(\"Total Months: \", len(counts))\n",
    "\n",
    "print(\"Total: \", df[\"Profit/Losses\"].sum()) \n",
    "\n",
    "print(\"Average Change: \", f\"${result:.2f}\")\n",
    "\n",
    "print(\"Greatest Increase in Profits: \", df.iloc[79, 0], int(df[\"change\"].max()))\n",
    "\n",
    "print(\"Greatest Decrease in Profits: \", df.iloc[49, 0], int(df[\"change\"].min()))"
   ]
  },
  {
   "cell_type": "code",
   "execution_count": null,
   "id": "d479b03c",
   "metadata": {},
   "outputs": [],
   "source": []
  },
  {
   "cell_type": "code",
   "execution_count": null,
   "id": "40517262",
   "metadata": {},
   "outputs": [],
   "source": []
  }
 ],
 "metadata": {
  "kernelspec": {
   "display_name": "Python 3 (ipykernel)",
   "language": "python",
   "name": "python3"
  },
  "language_info": {
   "codemirror_mode": {
    "name": "ipython",
    "version": 3
   },
   "file_extension": ".py",
   "mimetype": "text/x-python",
   "name": "python",
   "nbconvert_exporter": "python",
   "pygments_lexer": "ipython3",
   "version": "3.9.13"
  }
 },
 "nbformat": 4,
 "nbformat_minor": 5
}
